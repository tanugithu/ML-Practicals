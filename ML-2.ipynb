{
 "cells": [
  {
   "cell_type": "code",
   "execution_count": 1,
   "id": "74ed0e49-5af7-47ce-a4c5-1a09afd092a8",
   "metadata": {},
   "outputs": [
    {
     "name": "stderr",
     "output_type": "stream",
     "text": [
      "ERROR: Could not find a version that satisfies the requirement sciket-learn (from versions: none)\n",
      "ERROR: No matching distribution found for sciket-learn\n"
     ]
    }
   ],
   "source": [
    "!pip install sciket-learn"
   ]
  },
  {
   "cell_type": "code",
   "execution_count": 2,
   "id": "0c74c34c-ef82-45ad-9c55-d5fef40f3c2b",
   "metadata": {},
   "outputs": [
    {
     "name": "stdout",
     "output_type": "stream",
     "text": [
      "Requirement already satisfied: scikit-learn in c:\\users\\hp\\anaconda3\\lib\\site-packages (1.2.2)\n",
      "Requirement already satisfied: numpy>=1.17.3 in c:\\users\\hp\\anaconda3\\lib\\site-packages (from scikit-learn) (1.26.4)\n",
      "Requirement already satisfied: scipy>=1.3.2 in c:\\users\\hp\\anaconda3\\lib\\site-packages (from scikit-learn) (1.11.4)\n",
      "Requirement already satisfied: joblib>=1.1.1 in c:\\users\\hp\\anaconda3\\lib\\site-packages (from scikit-learn) (1.2.0)\n",
      "Requirement already satisfied: threadpoolctl>=2.0.0 in c:\\users\\hp\\anaconda3\\lib\\site-packages (from scikit-learn) (2.2.0)\n"
     ]
    }
   ],
   "source": [
    "!pip install scikit-learn"
   ]
  },
  {
   "cell_type": "code",
   "execution_count": 3,
   "id": "52417e61-97bc-4ede-8d1a-a1e815fee34f",
   "metadata": {},
   "outputs": [
    {
     "name": "stdout",
     "output_type": "stream",
     "text": [
      "Requirement already satisfied: matplotlib in c:\\users\\hp\\anaconda3\\lib\\site-packages (3.8.0)\n",
      "Requirement already satisfied: contourpy>=1.0.1 in c:\\users\\hp\\anaconda3\\lib\\site-packages (from matplotlib) (1.2.0)\n",
      "Requirement already satisfied: cycler>=0.10 in c:\\users\\hp\\anaconda3\\lib\\site-packages (from matplotlib) (0.11.0)\n",
      "Requirement already satisfied: fonttools>=4.22.0 in c:\\users\\hp\\anaconda3\\lib\\site-packages (from matplotlib) (4.25.0)\n",
      "Requirement already satisfied: kiwisolver>=1.0.1 in c:\\users\\hp\\anaconda3\\lib\\site-packages (from matplotlib) (1.4.4)\n",
      "Requirement already satisfied: numpy<2,>=1.21 in c:\\users\\hp\\anaconda3\\lib\\site-packages (from matplotlib) (1.26.4)\n",
      "Requirement already satisfied: packaging>=20.0 in c:\\users\\hp\\anaconda3\\lib\\site-packages (from matplotlib) (23.1)\n",
      "Requirement already satisfied: pillow>=6.2.0 in c:\\users\\hp\\anaconda3\\lib\\site-packages (from matplotlib) (10.2.0)\n",
      "Requirement already satisfied: pyparsing>=2.3.1 in c:\\users\\hp\\anaconda3\\lib\\site-packages (from matplotlib) (3.0.9)\n",
      "Requirement already satisfied: python-dateutil>=2.7 in c:\\users\\hp\\anaconda3\\lib\\site-packages (from matplotlib) (2.8.2)\n",
      "Requirement already satisfied: six>=1.5 in c:\\users\\hp\\anaconda3\\lib\\site-packages (from python-dateutil>=2.7->matplotlib) (1.16.0)\n"
     ]
    }
   ],
   "source": [
    "!pip install matplotlib"
   ]
  },
  {
   "cell_type": "code",
   "execution_count": 5,
   "id": "b74123ac-1785-4632-bef3-2310bf99c427",
   "metadata": {},
   "outputs": [],
   "source": [
    "from sklearn.metrics import confusion_matrix ,ConfusionMatrixDisplay\n",
    "from sklearn.metrics import classification_report\n",
    "from sklearn.metrics import roc_auc_score\n",
    "from sklearn.metrics import log_loss\n",
    "from sklearn.metrics import r2_score\n",
    "from sklearn.metrics import mean_absolute_error\n",
    "from sklearn.metrics import mean_squared_error\n"
   ]
  },
  {
   "cell_type": "code",
   "execution_count": 6,
   "id": "6c129340-6df2-46c3-aaa4-de711706f88f",
   "metadata": {},
   "outputs": [],
   "source": [
    "X_actual = [1,1,0,1,0,0,1,0,0,0]\n",
    "Y_predic = [1,0,1,1,1,0,1,1,0,0]"
   ]
  },
  {
   "cell_type": "code",
   "execution_count": 7,
   "id": "2a4fa5ff-ea28-460d-930d-39cf04d59d99",
   "metadata": {},
   "outputs": [
    {
     "name": "stdout",
     "output_type": "stream",
     "text": [
      "confusion Matrix :\n",
      "[[3 3]\n",
      " [1 3]]\n"
     ]
    }
   ],
   "source": [
    "results = confusion_matrix(X_actual, Y_predic)\n",
    "print('confusion Matrix :')\n",
    "print(results)"
   ]
  },
  {
   "cell_type": "code",
   "execution_count": 8,
   "id": "b4b4822e-1760-49af-b5c2-313520e87bf2",
   "metadata": {},
   "outputs": [
    {
     "data": {
      "image/png": "[encoded data removed]",
      "text/plain": [
       "<Figure size 640x480 with 2 Axes>"
      ]
     },
     "metadata": {},
     "output_type": "display_data"
    }
   ],
   "source": [
    "import matplotlib.pyplot as plt\n",
    "cm_display = ConfusionMatrixDisplay(confusion_matrix = results, display_labels = [0,1])\n",
    "cm_display.plot()\n",
    "plt.show()"
   ]
  },
  {
   "cell_type": "code",
   "execution_count": 10,
   "id": "c83b5b67-908e-4b4e-9a47-e387afe9b96d",
   "metadata": {},
   "outputs": [
    {
     "name": "stdout",
     "output_type": "stream",
     "text": [
      "{'Accuracy': 0.6, 'Precision': 0.5, 'Sensitivity_recall': 0.75, 'Specificity': 0.5, 'F1_score': 0.6}\n"
     ]
    }
   ],
   "source": [
    "import sklearn.metrics as metrics\n",
    "Accuracy = metrics.accuracy_score(X_actual, Y_predic)\n",
    "Precision = metrics.precision_score(X_actual, Y_predic)\n",
    "Sensitivity_recall = metrics.recall_score(X_actual, Y_predic)\n",
    "Specificity = metrics.recall_score(X_actual, Y_predic, pos_label=0)\n",
    "F1_score = metrics.f1_score(X_actual, Y_predic)\n",
    "print({\"Accuracy\":Accuracy,\"Precision\":Precision,\"Sensitivity_recall\":Sensitivity_recall,\"Specificity\":Specificity,\"F1_score\":F1_score})"
   ]
  },
  {
   "cell_type": "code",
   "execution_count": 11,
   "id": "43298aa9-e62b-4278-bba4-a76ad11304e5",
   "metadata": {},
   "outputs": [
    {
     "name": "stdout",
     "output_type": "stream",
     "text": [
      "Classification Report :\n",
      "              precision    recall  f1-score   support\n",
      "\n",
      "           0       0.75      0.50      0.60         6\n",
      "           1       0.50      0.75      0.60         4\n",
      "\n",
      "    accuracy                           0.60        10\n",
      "   macro avg       0.62      0.62      0.60        10\n",
      "weighted avg       0.65      0.60      0.60        10\n",
      "\n"
     ]
    }
   ],
   "source": [
    "print('Classification Report :')\n",
    "print(classification_report(X_actual, Y_predic))"
   ]
  },
  {
   "cell_type": "code",
   "execution_count": 12,
   "id": "3892a0fe-80ed-49c8-854d-f4383893c09d",
   "metadata": {},
   "outputs": [
    {
     "name": "stdout",
     "output_type": "stream",
     "text": [
      "AUC-ROC: 0.625\n",
      "Logless value is 14.41746135564686\n"
     ]
    }
   ],
   "source": [
    "from sklearn.metrics import precision_recall_curve\n",
    "\n",
    "print('AUC-ROC:',roc_auc_score(X_actual, Y_predic))\n",
    "print('Logless value is',log_loss(X_actual, Y_predic))"
   ]
  },
  {
   "cell_type": "code",
   "execution_count": 14,
   "id": "a015c489-c961-43af-9798-69a396001166",
   "metadata": {},
   "outputs": [
    {
     "name": "stderr",
     "output_type": "stream",
     "text": [
      "No artists with labels found to put in legend.  Note that artists whose label start with an underscore are ignored when legend() is called with no argument.\n"
     ]
    },
    {
     "data": {
      "image/png": "[encoded data removed]",
      "text/plain": [
       "<Figure size 640x480 with 1 Axes>"
      ]
     },
     "metadata": {},
     "output_type": "display_data"
    }
   ],
   "source": [
    "from matplotlib import pyplot\n",
    "pyplot.plot([0,1], linestyle='--')\n",
    "pyplot.plot(Sensitivity_recall, Precision, marker='.')\n",
    "pyplot.xlabel('Recall')\n",
    "\n",
    "pyplot.ylabel('Precision')\n",
    "\n",
    "pyplot.legend()\n",
    "pyplot.show()"
   ]
  },
  {
   "cell_type": "code",
   "execution_count": 15,
   "id": "759c3450-3880-405f-a0ea-e983add0f8dd",
   "metadata": {},
   "outputs": [],
   "source": [
    "X_actual1 = [5,-1,2,10]\n",
    "Y_predict1 = [3.5,-0.9,2,9.9]"
   ]
  },
  {
   "cell_type": "code",
   "execution_count": 17,
   "id": "aebcd93b-1b20-444e-9de9-0168c376cb9d",
   "metadata": {},
   "outputs": [
    {
     "name": "stdout",
     "output_type": "stream",
     "text": [
      "R Squared = 0.9656060606060606\n",
      "MAE = 0.42499999999999993\n",
      "MSE = 0.5674999999999999\n"
     ]
    }
   ],
   "source": [
    "print('R Squared =', r2_score(X_actual1, Y_predict1))\n",
    "print('MAE =', mean_absolute_error(X_actual1, Y_predict1))\n",
    "print('MSE =', mean_squared_error(X_actual1, Y_predict1))\n"
   ]
  },
  {
   "cell_type": "code",
   "execution_count": null,
   "id": "f219ba11-e799-430b-b3e3-8e430c70330f",
   "metadata": {},
   "outputs": [],
   "source": []
  }
 ],
 "metadata": {
  "kernelspec": {
   "display_name": "Python 3 (ipykernel)",
   "language": "python",
   "name": "python3"
  },
  "language_info": {
   "codemirror_mode": {
    "name": "ipython",
    "version": 3
   },
   "file_extension": ".py",
   "mimetype": "text/x-python",
   "name": "python",
   "nbconvert_exporter": "python",
   "pygments_lexer": "ipython3",
   "version": "3.11.7"
  }
 },
 "nbformat": 4,
 "nbformat_minor": 5
}
